{
  "cells": [
    {
      "cell_type": "markdown",
      "metadata": {
        "id": "MH-3kVwvJYeP"
      },
      "source": [
        "# 2.3 Типы коллекций. Последовательности, множества, отображения"
      ]
    },
    {
      "cell_type": "markdown",
      "metadata": {
        "id": "gMwyKhlQJ1mf"
      },
      "source": [
        "## Задание 1"
      ]
    },
    {
      "cell_type": "markdown",
      "metadata": {
        "id": "Owu684lKKrjJ"
      },
      "source": [
        "**Условие:**\n",
        "Создайте кортеж из ```10```  произвольных значений. С помощью операции среза выведите только элементы с четными индексами.\n"
      ]
    },
    {
      "cell_type": "markdown",
      "metadata": {
        "id": "OCTvo3fHLaaJ"
      },
      "source": [
        "**Решение:**"
      ]
    },
    {
      "cell_type": "code",
      "execution_count": null,
      "metadata": {
        "id": "f9_8IGndLeRO",
        "colab": {
          "base_uri": "https://localhost:8080/"
        },
        "outputId": "8e78e789-e4fc-4419-aef2-ddcd7ccfd63d"
      },
      "outputs": [
        {
          "output_type": "stream",
          "name": "stdout",
          "text": [
            "('sobaka', True, 'kowka', None, 2024)\n"
          ]
        }
      ],
      "source": [
        "kortej = (\"sobaka\", 123, True, [1, 2, 3], \"kowka\", 3.14, None, \"olen\", 2024, {\"key\": \"value\"})\n",
        "vivod = kortej[::2]\n",
        "print(vivod)"
      ]
    },
    {
      "cell_type": "markdown",
      "metadata": {
        "id": "g5S0h2-wKfGE"
      },
      "source": [
        "## Задание 2"
      ]
    },
    {
      "cell_type": "markdown",
      "metadata": {
        "id": "orX7BUzcPKKf"
      },
      "source": [
        "**Условие:**\n",
        "Создайте список из ```10``` элементов, которые могут быть только ```0``` или ```1```. Примените к полученному списку операцию ```set()```."
      ]
    },
    {
      "cell_type": "markdown",
      "metadata": {
        "id": "ESSLfwqEPKKn"
      },
      "source": [
        "**Решение:**"
      ]
    },
    {
      "cell_type": "code",
      "execution_count": null,
      "metadata": {
        "id": "y8HOlaNLPKKq",
        "colab": {
          "base_uri": "https://localhost:8080/"
        },
        "outputId": "2df2a0ab-de39-44e6-e23e-d9e8329fd48e"
      },
      "outputs": [
        {
          "output_type": "stream",
          "name": "stdout",
          "text": [
            "{0, 1}\n"
          ]
        }
      ],
      "source": [
        "# Создаем список из 10 элементов, которые могут быть только 0 или 1\n",
        "my_list = [0, 1, 1, 0, 1, 0, 1, 0, 0, 1]\n",
        "\n",
        "# Применяем операцию set() к полученному списку\n",
        "unique_elements = set(my_list)\n",
        "\n",
        "# Выводим уникальные элементы после применения операции set()\n",
        "print(unique_elements)\n"
      ]
    },
    {
      "cell_type": "markdown",
      "metadata": {
        "id": "tq0Fcrg1KfXQ"
      },
      "source": [
        "## Задание 3"
      ]
    },
    {
      "cell_type": "markdown",
      "metadata": {
        "id": "3xp-jyyHPMIb"
      },
      "source": [
        "**Условие:**\n",
        "Создайте словарь из ```5``` сотрудников, где ключ - это имя сотрудника, а значение - его заработная плата. Добавьте в него несколько сотрудников. В цикле проиндексируйте зарплату всем сотрудникам на ```10%```.\n"
      ]
    },
    {
      "cell_type": "markdown",
      "metadata": {
        "id": "H5ZlBsI2PMIi"
      },
      "source": [
        "**Решение:**"
      ]
    },
    {
      "cell_type": "code",
      "execution_count": null,
      "metadata": {
        "id": "6amsYUCoPMIn",
        "colab": {
          "base_uri": "https://localhost:8080/"
        },
        "outputId": "7b2586f5-423c-47c3-c207-2040e2eb1a64"
      },
      "outputs": [
        {
          "output_type": "stream",
          "name": "stdout",
          "text": [
            "Alice: 55000.00000000001\n",
            "Bob: 66000.0\n",
            "Charlie: 77000.0\n",
            "David: 60500.00000000001\n",
            "Eve: 68200.0\n",
            "Frank: 63800.00000000001\n",
            "Grace: 58300.00000000001\n"
          ]
        }
      ],
      "source": [
        "# Создаем словарь из 5 сотрудников\n",
        "employees = {\n",
        "    'Alice': 50000,\n",
        "    'Bob': 60000,\n",
        "    'Charlie': 70000,\n",
        "    'David': 55000,\n",
        "    'Eve': 62000\n",
        "}\n",
        "\n",
        "# Добавляем несколько сотрудников\n",
        "employees['Frank'] = 58000\n",
        "employees['Grace'] = 53000\n",
        "\n",
        "# Проходим по словарю и увеличиваем заработную плату каждого сотрудника на 10%\n",
        "for employee, salary in employees.items():\n",
        "    employees[employee] = salary * 1.1\n",
        "\n",
        "# Выводим обновленные данные о заработной плате каждого сотрудника\n",
        "for employee, salary in employees.items():\n",
        "    print(f'{employee}: {salary}')\n",
        "\n"
      ]
    }
  ],
  "metadata": {
    "colab": {
      "provenance": []
    },
    "kernelspec": {
      "display_name": "Python 3 (ipykernel)",
      "language": "python",
      "name": "python3"
    },
    "language_info": {
      "codemirror_mode": {
        "name": "ipython",
        "version": 3
      },
      "file_extension": ".py",
      "mimetype": "text/x-python",
      "name": "python",
      "nbconvert_exporter": "python",
      "pygments_lexer": "ipython3",
      "version": "3.11.7"
    }
  },
  "nbformat": 4,
  "nbformat_minor": 0
}