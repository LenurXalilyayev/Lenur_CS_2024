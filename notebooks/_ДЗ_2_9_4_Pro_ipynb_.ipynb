{
  "cells": [
    {
      "cell_type": "markdown",
      "metadata": {
        "id": "MH-3kVwvJYeP"
      },
      "source": [
        "# 2.9.4 Форматы файлов, кодировки и сохранение данных. Работа с файлами и каталогами"
      ]
    },
    {
      "cell_type": "markdown",
      "metadata": {
        "id": "gMwyKhlQJ1mf"
      },
      "source": [
        "## Задание 1"
      ]
    },
    {
      "cell_type": "markdown",
      "metadata": {
        "id": "Owu684lKKrjJ"
      },
      "source": [
        "**Условие:**\n",
        "Напишите собственный класс с несколькими атрибутами данных, создайте его экземпляр и запишите данный экземпляр класса в файл с использованием библиотеки ```pickle```. Считайте экземпляр из файла и проверьте его атрибуты.\n",
        "\n"
      ]
    },
    {
      "cell_type": "markdown",
      "metadata": {
        "id": "OCTvo3fHLaaJ"
      },
      "source": [
        "**Решение:**"
      ]
    },
    {
      "cell_type": "code",
      "execution_count": null,
      "metadata": {
        "id": "f9_8IGndLeRO",
        "colab": {
          "base_uri": "https://localhost:8080/"
        },
        "outputId": "d1d4fe4d-0949-4b8e-e90a-182a56fc4f82"
      },
      "outputs": [
        {
          "output_type": "stream",
          "name": "stdout",
          "text": [
            "Имя: Lenur\n",
            "Возраст: 38\n",
            "Страна: Uzbekistan\n"
          ]
        }
      ],
      "source": [
        "import pickle\n",
        "\n",
        "class Person:\n",
        "    def __init__(self, name, age, country):\n",
        "        self.name = name\n",
        "        self.age = age\n",
        "        self.country = country\n",
        "\n",
        "# Создаем экземпляр класса Person\n",
        "person = Person(\"Lenur\", 38, \"Uzbekistan\")\n",
        "\n",
        "# Записываем экземпляр в файл с использованием библиотеки pickle\n",
        "with open('person.pickle', 'wb') as file:\n",
        "    pickle.dump(person, file)\n",
        "\n",
        "# Считываем экземпляр из файла\n",
        "with open('person.pickle', 'rb') as file:\n",
        "    loaded_person = pickle.load(file)\n",
        "\n",
        "# Проверяем атрибуты экземпляра\n",
        "print(\"Имя:\", loaded_person.name)\n",
        "print(\"Возраст:\", loaded_person.age)\n",
        "print(\"Страна:\", loaded_person.country)\n"
      ]
    },
    {
      "cell_type": "markdown",
      "metadata": {
        "id": "g5S0h2-wKfGE"
      },
      "source": [
        "## Задание 2"
      ]
    },
    {
      "cell_type": "markdown",
      "metadata": {
        "id": "orX7BUzcPKKf"
      },
      "source": [
        "**Условие:**\n",
        "\n",
        "Методами модуля ```os``` cоставить статистику размера файлов ```*.csv``` папки ```sample_data``` из Google Colab. Составить словарь\n",
        "\n",
        "```\n",
        "size_dict = {'filename.csv':filename_size}\n",
        "```\n",
        "\n",
        "\n",
        "*   ```filename.csv``` - имя файла\n",
        "*   ```filename_size``` - размер файла\n",
        "\n",
        "\n"
      ]
    },
    {
      "cell_type": "markdown",
      "metadata": {
        "id": "ESSLfwqEPKKn"
      },
      "source": [
        "**Решение:**"
      ]
    },
    {
      "cell_type": "code",
      "execution_count": null,
      "metadata": {
        "id": "y8HOlaNLPKKq",
        "colab": {
          "base_uri": "https://localhost:8080/"
        },
        "outputId": "a47b1c59-07fe-4323-ded0-39391f585640"
      },
      "outputs": [
        {
          "output_type": "stream",
          "name": "stdout",
          "text": [
            "{'mnist_test.csv': 18289443, 'california_housing_train.csv': 1706430, 'mnist_train_small.csv': 36523880, 'california_housing_test.csv': 301141}\n"
          ]
        }
      ],
      "source": [
        "import os\n",
        "\n",
        "# Путь к папке sample_data\n",
        "folder_path = '/content/sample_data'\n",
        "\n",
        "# Создаем словарь для хранения размеров файлов\n",
        "size_dict = {}\n",
        "\n",
        "# Получаем список файлов в папке\n",
        "files = os.listdir(folder_path)\n",
        "\n",
        "# Проходим по каждому файлу и проверяем, является ли он файлом CSV\n",
        "for file in files:\n",
        "    if file.endswith('.csv'):\n",
        "        file_path = os.path.join(folder_path, file)\n",
        "        # Получаем размер файла в байтах\n",
        "        file_size = os.path.getsize(file_path)\n",
        "        size_dict[file] = file_size\n",
        "\n",
        "# Выводим словарь с размерами файлов\n",
        "print(size_dict)\n"
      ]
    }
  ],
  "metadata": {
    "colab": {
      "provenance": []
    },
    "kernelspec": {
      "display_name": "Python 3 (ipykernel)",
      "language": "python",
      "name": "python3"
    },
    "language_info": {
      "codemirror_mode": {
        "name": "ipython",
        "version": 3
      },
      "file_extension": ".py",
      "mimetype": "text/x-python",
      "name": "python",
      "nbconvert_exporter": "python",
      "pygments_lexer": "ipython3",
      "version": "3.11.7"
    }
  },
  "nbformat": 4,
  "nbformat_minor": 0
}