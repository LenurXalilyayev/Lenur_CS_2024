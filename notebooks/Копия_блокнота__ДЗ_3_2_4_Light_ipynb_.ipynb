{
  "cells": [
    {
      "cell_type": "markdown",
      "metadata": {
        "id": "MH-3kVwvJYeP"
      },
      "source": [
        "\n",
        "# 3.2.4 Математические и статистические операции"
      ]
    },
    {
      "cell_type": "markdown",
      "metadata": {
        "id": "gMwyKhlQJ1mf"
      },
      "source": [
        "## Задание 1"
      ]
    },
    {
      "cell_type": "markdown",
      "metadata": {
        "id": "Owu684lKKrjJ"
      },
      "source": [
        "**Условие:**\n",
        "Создайте случайный целочисленный массив ```ndarray``` размера ```(10,10)``` элементов, принадлежащих отрезку ```[0,10]```. С помощью методов ```np.mean()``` и ```np.std()``` центрируйте и нормируйте элементы в столбцах. Найдите разброс полученных значений в полученной матрице. Используйте ```np.random.seed(1000)``` перед генерацией массива для воспроизводимости результатов.\n",
        "\n",
        "**Формат ответа:**\n",
        "Кортеж чисел (например, ```(-0.45,0.89)```)\n",
        "\n"
      ]
    },
    {
      "cell_type": "markdown",
      "metadata": {
        "id": "OCTvo3fHLaaJ"
      },
      "source": [
        "**Решение:**"
      ]
    },
    {
      "cell_type": "code",
      "execution_count": null,
      "metadata": {
        "id": "f9_8IGndLeRO",
        "colab": {
          "base_uri": "https://localhost:8080/"
        },
        "outputId": "0f8aa036-683c-4987-e575-60d818fc5d35"
      },
      "outputs": [
        {
          "output_type": "stream",
          "name": "stdout",
          "text": [
            "(2.5542034272564034, 3.75)\n"
          ]
        }
      ],
      "source": [
        "import numpy as np\n",
        "\n",
        "np.random.seed(1000)  # Задаем seed для воспроизводимости\n",
        "arr = np.random.randint(0, 11, size=(10, 10))  # Создаем случайный массив (10, 10) от 0 до 10\n",
        "\n",
        "# Центрирование и нормировка элементов в столбцах\n",
        "centered_normalized_arr = (arr - np.mean(arr, axis=0)) / np.std(arr, axis=0)\n",
        "\n",
        "# Вычисляем разброс полученных значений\n",
        "ptp_values = np.ptp(centered_normalized_arr, axis=0)\n",
        "\n",
        "result = (ptp_values.min(), ptp_values.max())\n",
        "print(result)\n"
      ]
    },
    {
      "cell_type": "markdown",
      "metadata": {
        "id": "g5S0h2-wKfGE"
      },
      "source": [
        "## Задание 2"
      ]
    },
    {
      "cell_type": "markdown",
      "metadata": {
        "id": "orX7BUzcPKKf"
      },
      "source": [
        "**Условие:**\n",
        "Создайте случайный целочисленный массив ```ndarray``` размера ```(15,15)``` элементов, принадлежащих отрезку ```[0,10]```. С помощью методов булевых массивов найдите количество четных элементов в полученном массиве. Используйте ```np.random.seed(1000)``` перед генерацией массива для воспроизводимости результатов.\n",
        "\n",
        "**Формат ответа:**\n",
        "Число (например, ```56```)\n"
      ]
    },
    {
      "cell_type": "markdown",
      "metadata": {
        "id": "ESSLfwqEPKKn"
      },
      "source": [
        "**Решение:**"
      ]
    },
    {
      "cell_type": "code",
      "execution_count": null,
      "metadata": {
        "id": "y8HOlaNLPKKq",
        "colab": {
          "base_uri": "https://localhost:8080/"
        },
        "outputId": "06522b61-5c97-4014-8bd6-68d57cc9264d"
      },
      "outputs": [
        {
          "output_type": "stream",
          "name": "stdout",
          "text": [
            "124\n"
          ]
        }
      ],
      "source": [
        "import numpy as np\n",
        "\n",
        "np.random.seed(1000)  # Задаем seed для воспроизводимости\n",
        "\n",
        "# Создаем случайный целочисленный массив размера (15, 15) из элементов от 0 до 10\n",
        "arr = np.random.randint(0, 11, size=(15, 15))\n",
        "\n",
        "# Создаем булев массив на основе условия на четность элементов\n",
        "even_mask = arr % 2 == 0\n",
        "\n",
        "# Подсчитываем количество четных элементов с помощью np.sum()\n",
        "count_even = np.sum(even_mask)\n",
        "\n",
        "print(count_even)\n"
      ]
    },
    {
      "cell_type": "markdown",
      "metadata": {
        "id": "tq0Fcrg1KfXQ"
      },
      "source": [
        "## Задание 3"
      ]
    },
    {
      "cell_type": "markdown",
      "metadata": {
        "id": "3xp-jyyHPMIb"
      },
      "source": [
        "**Условие:**\n",
        "Напишите функцию, которая принимает на вход квадратную матрицу и находит ее определитель. Если определитель отличен от нуля, то функция возвращает определитель матрицы, которая является обратной к транспанированной исходной матрице, иначе выдает ноль. Проверьте работоспособность на матрице, указанной в пункте решение.\n",
        "\n",
        "**Формат ответа:**\n",
        "Число (например, ```2.7```)\n",
        "\n",
        "\n"
      ]
    },
    {
      "cell_type": "markdown",
      "metadata": {
        "id": "H5ZlBsI2PMIi"
      },
      "source": [
        "**Решение:**"
      ]
    },
    {
      "cell_type": "code",
      "execution_count": null,
      "metadata": {
        "id": "6amsYUCoPMIn"
      },
      "outputs": [],
      "source": [
        "_INPUT_MATR_ = np.array([[2,5,7],\n",
        "                        [6,3,4],\n",
        "                        [5,-2,-3]])"
      ]
    },
    {
      "cell_type": "code",
      "execution_count": null,
      "metadata": {
        "id": "2IsoWN0glMYv",
        "colab": {
          "base_uri": "https://localhost:8080/"
        },
        "outputId": "1d11eb59-e432-4ce6-ccaa-45364aed79b1"
      },
      "outputs": [
        {
          "output_type": "stream",
          "name": "stdout",
          "text": [
            "0\n"
          ]
        }
      ],
      "source": [
        "import numpy as np\n",
        "\n",
        "def determinant_inverse_transpose(matrix):\n",
        "    det = np.linalg.det(matrix)\n",
        "\n",
        "    if det != 0:\n",
        "        inv_transpose = np.linalg.inv(matrix.T)\n",
        "        return np.linalg.det(inv_transpose)\n",
        "    else:\n",
        "        return 0\n",
        "\n",
        "# Проверка работы функции на примере\n",
        "example_matrix = np.array([[1, 2, 3],\n",
        "                            [4, 5, 6],\n",
        "                            [7, 8, 9]])\n",
        "\n",
        "result = determinant_inverse_transpose(example_matrix)\n",
        "print(result)\n"
      ]
    }
  ],
  "metadata": {
    "colab": {
      "provenance": []
    },
    "kernelspec": {
      "display_name": "Python 3 (ipykernel)",
      "language": "python",
      "name": "python3"
    },
    "language_info": {
      "codemirror_mode": {
        "name": "ipython",
        "version": 3
      },
      "file_extension": ".py",
      "mimetype": "text/x-python",
      "name": "python",
      "nbconvert_exporter": "python",
      "pygments_lexer": "ipython3",
      "version": "3.11.7"
    }
  },
  "nbformat": 4,
  "nbformat_minor": 0
}