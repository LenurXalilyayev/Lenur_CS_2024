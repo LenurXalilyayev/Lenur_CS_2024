{
  "cells": [
    {
      "cell_type": "markdown",
      "metadata": {
        "id": "MH-3kVwvJYeP"
      },
      "source": [
        "\n",
        "# 3.2.3 Уход от циклов: обработка данных с применением массивов"
      ]
    },
    {
      "cell_type": "markdown",
      "metadata": {
        "id": "gMwyKhlQJ1mf"
      },
      "source": [
        "## Задание 1"
      ]
    },
    {
      "cell_type": "markdown",
      "metadata": {
        "id": "Owu684lKKrjJ"
      },
      "source": [
        "**Условие:**\n",
        "Создайте случайный целочисленный массив ```ndarray``` из ```12``` элементов, принадлежащих отрезку ```[0,10]```. Сделайте две матрицы размера ```(3,4)``` с порядком следования элементов в стиле С и Fortran. Найдите поэлементное произведение этих матриц, а после - максимальный элемент в полученной матрице. Используйте ```np.random.seed(1000)``` перед генерацией массива для воспроизводимости результатов.\n",
        "\n",
        "**Формат ответа:**\n",
        "Число (например, ```25```)\n",
        "\n"
      ]
    },
    {
      "cell_type": "markdown",
      "metadata": {
        "id": "OCTvo3fHLaaJ"
      },
      "source": [
        "**Решение:**"
      ]
    },
    {
      "cell_type": "code",
      "execution_count": null,
      "metadata": {
        "id": "f9_8IGndLeRO",
        "colab": {
          "base_uri": "https://localhost:8080/"
        },
        "outputId": "0b35c78b-3ba3-43fe-a68a-f3f9be616672"
      },
      "outputs": [
        {
          "output_type": "stream",
          "name": "stdout",
          "text": [
            "100\n"
          ]
        }
      ],
      "source": [
        "import numpy as np\n",
        "\n",
        "np.random.seed(1000)  # Задаем seed для воспроизводимости\n",
        "\n",
        "# Создаем случайный целочисленный массив из 12 элементов от 0 до 10\n",
        "arr = np.random.randint(0, 11, size=12)\n",
        "\n",
        "# Формируем матрицу размера (3, 4) в стиле C\n",
        "matrix_c = arr.reshape((3, 4), order='C')\n",
        "\n",
        "# Формируем матрицу размера (3, 4) в стиле Fortran\n",
        "matrix_f = arr.reshape((3, 4), order='F')\n",
        "\n",
        "# Выполняем поэлементное произведение матриц\n",
        "matrix_product = matrix_c * matrix_f\n",
        "\n",
        "# Находим максимальный элемент в полученной матрице\n",
        "max_element = np.max(matrix_product)\n",
        "\n",
        "print(max_element)\n"
      ]
    },
    {
      "cell_type": "markdown",
      "metadata": {
        "id": "g5S0h2-wKfGE"
      },
      "source": [
        "## Задание 2"
      ]
    },
    {
      "cell_type": "markdown",
      "metadata": {
        "id": "orX7BUzcPKKf"
      },
      "source": [
        "**Условие:**\n",
        "Создайте ```3``` случайных целочисленных массива ```ndarray``` размера ```(10,10)``` элементов, принадлежащих отрезку ```[0,10]```. Сделайте из данных массивов один трехмерный массив. Найдя размер полученного массива, вычислите количество элементов в нем. Используйте ```np.random.seed(1000)``` перед генерацией массива для воспроизводимости результатов.\n",
        "\n",
        "**Формат ответа:**\n",
        "Число (например, ```56```)\n"
      ]
    },
    {
      "cell_type": "markdown",
      "metadata": {
        "id": "ESSLfwqEPKKn"
      },
      "source": [
        "**Решение:**"
      ]
    },
    {
      "cell_type": "code",
      "execution_count": null,
      "metadata": {
        "id": "y8HOlaNLPKKq",
        "colab": {
          "base_uri": "https://localhost:8080/"
        },
        "outputId": "3f533449-21bc-4023-cfaa-9f68e06e3ab8"
      },
      "outputs": [
        {
          "output_type": "stream",
          "name": "stdout",
          "text": [
            "300\n"
          ]
        }
      ],
      "source": [
        "import numpy as np\n",
        "\n",
        "np.random.seed(1000)  # Задаем seed для воспроизводимости\n",
        "\n",
        "# Создаем 3 случайных целочисленных массива размера (10, 10) из элементов от 0 до 10\n",
        "arr1 = np.random.randint(0, 11, size=(10, 10))\n",
        "arr2 = np.random.randint(0, 11, size=(10, 10))\n",
        "arr3 = np.random.randint(0, 11, size=(10, 10))\n",
        "\n",
        "# Объединяем данные массивы в трехмерный массив\n",
        "array_3d = np.stack([arr1, arr2, arr3])\n",
        "\n",
        "# Находим размер полученного массива\n",
        "array_size = array_3d.shape\n",
        "\n",
        "# Вычисляем количество элементов в массиве\n",
        "num_elements = np.prod(array_size)\n",
        "\n",
        "print(num_elements)"
      ]
    },
    {
      "cell_type": "markdown",
      "metadata": {
        "id": "tq0Fcrg1KfXQ"
      },
      "source": [
        "## Задание 3"
      ]
    },
    {
      "cell_type": "markdown",
      "metadata": {
        "id": "3xp-jyyHPMIb"
      },
      "source": [
        "**Условие:**\n",
        "С использование методов ```ndarray``` сформируйте массив размера ```(20,2)```, в первом столбце которого идут целые числа, начиная с ```1```,а во втором - первые 20 нечетных чисел, начиная с ```3```. Найдите среднее значение второго столбца.\n",
        "\n",
        "**Формат ответа:**\n",
        "Число (например, ```34```)\n",
        "\n"
      ]
    },
    {
      "cell_type": "markdown",
      "metadata": {
        "id": "H5ZlBsI2PMIi"
      },
      "source": [
        "**Решение:**"
      ]
    },
    {
      "cell_type": "code",
      "execution_count": null,
      "metadata": {
        "id": "6amsYUCoPMIn",
        "colab": {
          "base_uri": "https://localhost:8080/"
        },
        "outputId": "19336cac-a0c1-4e38-ba55-e6d430c06923"
      },
      "outputs": [
        {
          "output_type": "execute_result",
          "data": {
            "text/plain": [
              "22.0"
            ]
          },
          "metadata": {},
          "execution_count": 4
        }
      ],
      "source": [
        "import numpy as np\n",
        "\n",
        "# Создание массива\n",
        "array = np.zeros((20, 2), dtype=int)\n",
        "array[:, 0] = np.arange(1, 21)  # Первый столбец с целыми числами от 1 до 20\n",
        "array[:, 1] = np.arange(3, 3 + 2 * 20, 2)  # Второй столбец с первыми 20 нечетными числами, начиная с 3\n",
        "\n",
        "# Нахождение среднего значения второго столбца\n",
        "mean_second_column = np.mean(array[:, 1])\n",
        "\n",
        "mean_second_column"
      ]
    }
  ],
  "metadata": {
    "colab": {
      "provenance": []
    },
    "kernelspec": {
      "display_name": "Python 3 (ipykernel)",
      "language": "python",
      "name": "python3"
    },
    "language_info": {
      "codemirror_mode": {
        "name": "ipython",
        "version": 3
      },
      "file_extension": ".py",
      "mimetype": "text/x-python",
      "name": "python",
      "nbconvert_exporter": "python",
      "pygments_lexer": "ipython3",
      "version": "3.11.7"
    }
  },
  "nbformat": 4,
  "nbformat_minor": 0
}