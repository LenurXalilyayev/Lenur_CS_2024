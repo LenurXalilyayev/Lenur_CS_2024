{
  "cells": [
    {
      "cell_type": "markdown",
      "metadata": {
        "id": "MH-3kVwvJYeP"
      },
      "source": [
        "\n",
        "# 3.2.1 Быстрые поэлементные операции над массивами"
      ]
    },
    {
      "cell_type": "markdown",
      "metadata": {
        "id": "gMwyKhlQJ1mf"
      },
      "source": [
        "## Задание 1"
      ]
    },
    {
      "cell_type": "markdown",
      "metadata": {
        "id": "Owu684lKKrjJ"
      },
      "source": [
        "**Условие:**\n",
        "Создайте произвольный массив ```ndarray``` из 10 элементов типа ```float16```. Присутствие ненулевых дробных частей у элементов обязательно. С использованием методов ```numpy``` отделите дробные части элементов и найдите их среднее значение.\n",
        "\n",
        "**Формат ответа:**\n",
        "Число (например, ```0.2```)\n"
      ]
    },
    {
      "cell_type": "markdown",
      "metadata": {
        "id": "OCTvo3fHLaaJ"
      },
      "source": [
        "**Решение:**"
      ]
    },
    {
      "cell_type": "code",
      "execution_count": null,
      "metadata": {
        "colab": {
          "base_uri": "https://localhost:8080/"
        },
        "id": "f9_8IGndLeRO",
        "outputId": "74750dcf-a35c-4909-c4b3-8f029d161978"
      },
      "outputs": [
        {
          "output_type": "stream",
          "name": "stdout",
          "text": [
            "0.5815\n"
          ]
        }
      ],
      "source": [
        "import numpy as np\n",
        "\n",
        "# Создаем произвольный массив ndarray из 10 элементов типа float16\n",
        "array = np.random.rand(10).astype(np.float16)\n",
        "\n",
        "# Извлекаем дробные части элементов\n",
        "fractional_parts = array - np.floor(array)\n",
        "\n",
        "# Находим среднее значение дробных частей\n",
        "mean_fractional_parts = np.mean(fractional_parts)\n",
        "\n",
        "print(mean_fractional_parts)\n"
      ]
    },
    {
      "cell_type": "markdown",
      "metadata": {
        "id": "g5S0h2-wKfGE"
      },
      "source": [
        "## Задание 2"
      ]
    },
    {
      "cell_type": "markdown",
      "metadata": {
        "id": "orX7BUzcPKKf"
      },
      "source": [
        "**Условие:**\n",
        "Создайте два произвольных целочисленных массива ```ndarray``` длины ```10``` и найдите количество позиций, в которых значения первого массива в ```3``` раза больше(не строго) значений второго массива при поэлементном сравнивании.\n",
        "\n",
        "**Формат ответа:**\n",
        "Число (например, ```5```)\n",
        "\n"
      ]
    },
    {
      "cell_type": "markdown",
      "metadata": {
        "id": "ESSLfwqEPKKn"
      },
      "source": [
        "**Решение:**"
      ]
    },
    {
      "cell_type": "code",
      "execution_count": null,
      "metadata": {
        "id": "y8HOlaNLPKKq",
        "colab": {
          "base_uri": "https://localhost:8080/"
        },
        "outputId": "ed4dc054-e6a9-47ba-a2b7-e601fd62ff97"
      },
      "outputs": [
        {
          "output_type": "stream",
          "name": "stdout",
          "text": [
            "4\n"
          ]
        }
      ],
      "source": [
        "import numpy as np\n",
        "\n",
        "# Создаем два произвольных целочисленных массива ndarray длины 10\n",
        "array1 = np.random.randint(1, 10, 10)\n",
        "array2 = np.random.randint(1, 10, 10)\n",
        "\n",
        "# Сравниваем значения поэлементно\n",
        "comparison = array1 >= 3 * array2\n",
        "\n",
        "# Находим количество позиций, где условие выполняется\n",
        "count_positions = np.sum(comparison)\n",
        "\n",
        "print(count_positions)\n"
      ]
    },
    {
      "cell_type": "markdown",
      "metadata": {
        "id": "tq0Fcrg1KfXQ"
      },
      "source": [
        "## Задание 3"
      ]
    },
    {
      "cell_type": "markdown",
      "metadata": {
        "id": "3xp-jyyHPMIb"
      },
      "source": [
        "**Условие:**\n",
        "Создайте массив ```ndarray``` длины ```20``` типа ```float16``` и с использованием методов numpy, найдите среднее и среднеквадратическое отклонение **по формулам**(np.mean и np.std можно использовать только для проверки результатов): для массива $\\{x_i\\}$\n",
        "\n",
        "*   $\\mu = \\frac{1}{n}(x_1 + ... x_n) $\n",
        "*   $\\sigma = \\sqrt{\\frac{1}{n}\\sum_{i=1}^{n}(x_i-\\mu)^2}$\n",
        "\n",
        "**Формат ответа:**\n",
        "Кортеж из 2х чисел (например, ```(3.2, 5.1)```)\n",
        "\n"
      ]
    },
    {
      "cell_type": "markdown",
      "metadata": {
        "id": "H5ZlBsI2PMIi"
      },
      "source": [
        "**Решение:**"
      ]
    },
    {
      "cell_type": "code",
      "execution_count": null,
      "metadata": {
        "id": "6amsYUCoPMIn",
        "colab": {
          "base_uri": "https://localhost:8080/"
        },
        "outputId": "95270c6c-63e5-4393-b456-f56611e3c362"
      },
      "outputs": [
        {
          "output_type": "stream",
          "name": "stdout",
          "text": [
            "(0.5234893798828125, 0.3142162753565648)\n"
          ]
        }
      ],
      "source": [
        "import numpy as np\n",
        "\n",
        "# Создаем массив ndarray длины 20 типа float16\n",
        "arr = np.random.rand(20).astype(np.float16)\n",
        "\n",
        "# Вычисляем среднее по формуле\n",
        "mean = sum(arr) / len(arr)\n",
        "\n",
        "# Вычисляем среднеквадратическое отклонение по формуле\n",
        "std = np.sqrt(sum((x - mean) ** 2 for x in arr) / len(arr))\n",
        "\n",
        "# Проверка результатов с использованием np.mean() и np.std()\n",
        "mean_np = np.mean(arr)\n",
        "std_np = np.std(arr)\n",
        "\n",
        "result = (mean, std)\n",
        "print(result)\n"
      ]
    }
  ],
  "metadata": {
    "colab": {
      "provenance": []
    },
    "kernelspec": {
      "display_name": "Python 3 (ipykernel)",
      "language": "python",
      "name": "python3"
    },
    "language_info": {
      "codemirror_mode": {
        "name": "ipython",
        "version": 3
      },
      "file_extension": ".py",
      "mimetype": "text/x-python",
      "name": "python",
      "nbconvert_exporter": "python",
      "pygments_lexer": "ipython3",
      "version": "3.11.7"
    }
  },
  "nbformat": 4,
  "nbformat_minor": 0
}