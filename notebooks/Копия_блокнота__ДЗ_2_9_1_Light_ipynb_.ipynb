{
  "cells": [
    {
      "cell_type": "markdown",
      "metadata": {
        "id": "MH-3kVwvJYeP"
      },
      "source": [
        "\n",
        "# 2.9.1 Математические вычисления и числа, типы коллекций"
      ]
    },
    {
      "cell_type": "markdown",
      "metadata": {
        "id": "gMwyKhlQJ1mf"
      },
      "source": [
        "## Задание 1"
      ]
    },
    {
      "cell_type": "markdown",
      "metadata": {
        "id": "Owu684lKKrjJ"
      },
      "source": [
        "**Условие:**\n",
        "\n",
        "Напишите функцию, которая случайно переставляет буквы во введенном слове.\n"
      ]
    },
    {
      "cell_type": "markdown",
      "metadata": {
        "id": "WF6dz8Ck9rcU"
      },
      "source": [
        "**Решение:**"
      ]
    },
    {
      "cell_type": "code",
      "execution_count": null,
      "metadata": {
        "id": "BngNQNR99rcU",
        "colab": {
          "base_uri": "https://localhost:8080/"
        },
        "outputId": "4af48db4-b901-4b9e-ccae-be27a06b7f4b"
      },
      "outputs": [
        {
          "output_type": "stream",
          "name": "stdout",
          "text": [
            "Введите слово: Привет!\n",
            "Переставленное слово: в!ерПти\n"
          ]
        }
      ],
      "source": [
        "import random\n",
        "\n",
        "def shuffle_word(word):\n",
        "    # Преобразуем строку в список символов\n",
        "    letters = list(word)\n",
        "    # Переставляем символы случайным образом\n",
        "    random.shuffle(letters)\n",
        "    # Собираем символы обратно в строку\n",
        "    shuffled_word = ''.join(letters)\n",
        "    # Возвращаем переставленное слово\n",
        "    return shuffled_word\n",
        "\n",
        "# Пример использования функции\n",
        "word = input(\"Введите слово: \")\n",
        "shuffled_word = shuffle_word(word)\n",
        "print(\"Переставленное слово:\", shuffled_word)"
      ]
    },
    {
      "cell_type": "markdown",
      "metadata": {
        "id": "g5S0h2-wKfGE"
      },
      "source": [
        "## Задание 2"
      ]
    },
    {
      "cell_type": "markdown",
      "metadata": {
        "id": "orX7BUzcPKKf"
      },
      "source": [
        "**Условие:**\n",
        "Используя методы модуля ```math```, найти значения $e^{\\pi}$ и $\\pi^{e}$. В случае, если первое выражение больше,то в ответе укажите 1, иначе - 0.\n",
        "\n",
        "**Формат ответа:**\n",
        "Число (например, ```1```)"
      ]
    },
    {
      "cell_type": "markdown",
      "metadata": {
        "id": "ESSLfwqEPKKn"
      },
      "source": [
        "**Решение:**"
      ]
    },
    {
      "cell_type": "code",
      "execution_count": null,
      "metadata": {
        "id": "y8HOlaNLPKKq",
        "colab": {
          "base_uri": "https://localhost:8080/"
        },
        "outputId": "4e343d72-4aed-47ef-8539-813920df5a03"
      },
      "outputs": [
        {
          "output_type": "stream",
          "name": "stdout",
          "text": [
            "1\n"
          ]
        }
      ],
      "source": [
        "import math\n",
        "\n",
        "e_power_pi = math.exp(math.pi)  # Вычисляем e^π\n",
        "pi_power_e = math.pi**math.e  # Вычисляем π^e\n",
        "\n",
        "if e_power_pi > pi_power_e:\n",
        "    answer = 1\n",
        "else:\n",
        "    answer = 0\n",
        "\n",
        "print(answer)"
      ]
    }
  ],
  "metadata": {
    "colab": {
      "provenance": []
    },
    "kernelspec": {
      "display_name": "Python 3 (ipykernel)",
      "language": "python",
      "name": "python3"
    },
    "language_info": {
      "codemirror_mode": {
        "name": "ipython",
        "version": 3
      },
      "file_extension": ".py",
      "mimetype": "text/x-python",
      "name": "python",
      "nbconvert_exporter": "python",
      "pygments_lexer": "ipython3",
      "version": "3.11.7"
    }
  },
  "nbformat": 4,
  "nbformat_minor": 0
}