{
  "cells": [
    {
      "cell_type": "markdown",
      "metadata": {
        "id": "MH-3kVwvJYeP"
      },
      "source": [
        "# 2.9.2 Работа с аргументами командной строки, время и дата"
      ]
    },
    {
      "cell_type": "markdown",
      "metadata": {
        "id": "gMwyKhlQJ1mf"
      },
      "source": [
        "## Задание 1"
      ]
    },
    {
      "cell_type": "markdown",
      "metadata": {
        "id": "Owu684lKKrjJ"
      },
      "source": [
        "**Условие:**\n",
        "Методами библиотеки ```datetime``` найти количество високосных годов с начала Unix эпохи и по настоящий момент.\n",
        "\n",
        "**Формат ответа:**\n",
        "Число (например, ```2```)\n"
      ]
    },
    {
      "cell_type": "markdown",
      "metadata": {
        "id": "OCTvo3fHLaaJ"
      },
      "source": [
        "**Решение:**"
      ]
    },
    {
      "cell_type": "code",
      "execution_count": null,
      "metadata": {
        "id": "f9_8IGndLeRO",
        "colab": {
          "base_uri": "https://localhost:8080/"
        },
        "outputId": "c2bd475f-deb3-4881-c80b-af9cc1cabec3"
      },
      "outputs": [
        {
          "output_type": "execute_result",
          "data": {
            "text/plain": [
              "14"
            ]
          },
          "metadata": {},
          "execution_count": 1
        }
      ],
      "source": [
        "import datetime\n",
        "\n",
        "# Начало Unix эпохи\n",
        "start_date = datetime.date(1970, 1, 1)\n",
        "\n",
        "# Текущая дата\n",
        "end_date = datetime.date.today()\n",
        "\n",
        "# Список всех годов с начала Unix эпохи до текущей даты\n",
        "years = range(start_date.year, end_date.year + 1)\n",
        "\n",
        "# Подсчет количества високосных годов\n",
        "leap_years = sum(1 for year in years if (year % 4 == 0 and year % 100 != 0) or year % 400 == 0)\n",
        "\n",
        "leap_years\n"
      ]
    },
    {
      "cell_type": "markdown",
      "metadata": {
        "id": "g5S0h2-wKfGE"
      },
      "source": [
        "## Задание 2"
      ]
    },
    {
      "cell_type": "markdown",
      "metadata": {
        "id": "orX7BUzcPKKf"
      },
      "source": [
        "**Условие:**\n",
        "Методами библиотеки ```datetime``` найдите название дня недели, в который вы родились. Посчитайте также количество секунд, которые вы провели на этой планете до ```01.01.2020```.\n",
        "\n",
        "**Формат ответа:** кортеж (например, ```('monday',123213875)```)\n"
      ]
    },
    {
      "cell_type": "markdown",
      "metadata": {
        "id": "ESSLfwqEPKKn"
      },
      "source": [
        "**Решение:**"
      ]
    },
    {
      "cell_type": "code",
      "execution_count": null,
      "metadata": {
        "id": "y8HOlaNLPKKq",
        "colab": {
          "base_uri": "https://localhost:8080/"
        },
        "outputId": "39db4734-21a9-4565-a72a-fb15d9ff98f3"
      },
      "outputs": [
        {
          "output_type": "execute_result",
          "data": {
            "text/plain": [
              "('friday', 1083628800)"
            ]
          },
          "metadata": {},
          "execution_count": 2
        }
      ],
      "source": [
        "import datetime\n",
        "\n",
        "# Дата рождения\n",
        "birthday = datetime.date(1985, 8, 30)\n",
        "\n",
        "# Название дня недели рождения\n",
        "day_of_week = birthday.strftime('%A').lower()\n",
        "\n",
        "# Разница между датой рождения и 01.01.2020\n",
        "time_spent_seconds = (datetime.date(2020, 1, 1) - birthday).total_seconds()\n",
        "\n",
        "(day_of_week, int(time_spent_seconds))\n"
      ]
    }
  ],
  "metadata": {
    "colab": {
      "provenance": []
    },
    "kernelspec": {
      "display_name": "Python 3 (ipykernel)",
      "language": "python",
      "name": "python3"
    },
    "language_info": {
      "codemirror_mode": {
        "name": "ipython",
        "version": 3
      },
      "file_extension": ".py",
      "mimetype": "text/x-python",
      "name": "python",
      "nbconvert_exporter": "python",
      "pygments_lexer": "ipython3",
      "version": "3.11.7"
    }
  },
  "nbformat": 4,
  "nbformat_minor": 0
}