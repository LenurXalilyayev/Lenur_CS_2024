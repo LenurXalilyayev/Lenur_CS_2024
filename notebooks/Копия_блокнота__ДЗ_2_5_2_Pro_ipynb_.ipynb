{
  "cells": [
    {
      "cell_type": "markdown",
      "metadata": {
        "id": "MH-3kVwvJYeP"
      },
      "source": [
        "# 2.5.2 Лямбда-функции и функции генераторы"
      ]
    },
    {
      "cell_type": "markdown",
      "metadata": {
        "id": "g5S0h2-wKfGE"
      },
      "source": [
        "## Задание 1"
      ]
    },
    {
      "cell_type": "markdown",
      "metadata": {
        "id": "orX7BUzcPKKf"
      },
      "source": [
        "**Условие:**\n",
        "Создайте лямбда-функцию, проверяющую условие делимости целого числа на ```7```. Примените ее ко всем элементам листа ```[1,2,3, ..., 1000]```. Найдите сумму полученных элементов.\n",
        "\n",
        "**Формат ответа:** Число (например, ```211```)"
      ]
    },
    {
      "cell_type": "markdown",
      "metadata": {
        "id": "ESSLfwqEPKKn"
      },
      "source": [
        "**Решение:**"
      ]
    },
    {
      "cell_type": "code",
      "execution_count": null,
      "metadata": {
        "id": "y8HOlaNLPKKq",
        "colab": {
          "base_uri": "https://localhost:8080/"
        },
        "outputId": "93c72f5b-47ca-4239-daa4-ca0ef62dd3c7"
      },
      "outputs": [
        {
          "output_type": "stream",
          "name": "stdout",
          "text": [
            "71071\n"
          ]
        }
      ],
      "source": [
        "divisible_by_7 = lambda x: x % 7 == 0\n",
        "numbers = list(range(1, 1001))\n",
        "divisible_by_7_sum = sum(filter(divisible_by_7, numbers))\n",
        "print(divisible_by_7_sum)"
      ]
    },
    {
      "cell_type": "markdown",
      "metadata": {
        "id": "selGfp_KaY3W"
      },
      "source": [
        "## Задание 2"
      ]
    },
    {
      "cell_type": "markdown",
      "metadata": {
        "id": "B8fL9n7zaY3g"
      },
      "source": [
        "**Условие:**\n",
        "Создайте лямбда-функцию, которая может получить на вход любое количество чисел и выдать их среднее арифметическое. Примените данную функцию на набору значений, указанных в решении.\n",
        "\n",
        "**Формат ответа:** Число (например,  ```15.2```)\n"
      ]
    },
    {
      "cell_type": "markdown",
      "metadata": {
        "id": "fIDZErU3aY3l"
      },
      "source": [
        "**Решение:**"
      ]
    },
    {
      "cell_type": "code",
      "execution_count": null,
      "metadata": {
        "id": "cqlVLcn-aY3p",
        "colab": {
          "base_uri": "https://localhost:8080/"
        },
        "outputId": "5c59fb4b-fe0d-4ebf-ca5d-11e2418732f8"
      },
      "outputs": [
        {
          "output_type": "stream",
          "name": "stdout",
          "text": [
            "5.5\n"
          ]
        }
      ],
      "source": [
        "average = lambda *args: sum(args) / len(args)\n",
        "target_list = [1, 2, 3, 4, 5, 6, 7, 8, 9, 10]\n",
        "result = average(*target_list)\n",
        "print(result)"
      ]
    }
  ],
  "metadata": {
    "colab": {
      "provenance": []
    },
    "kernelspec": {
      "display_name": "Python 3 (ipykernel)",
      "language": "python",
      "name": "python3"
    },
    "language_info": {
      "codemirror_mode": {
        "name": "ipython",
        "version": 3
      },
      "file_extension": ".py",
      "mimetype": "text/x-python",
      "name": "python",
      "nbconvert_exporter": "python",
      "pygments_lexer": "ipython3",
      "version": "3.11.7"
    }
  },
  "nbformat": 4,
  "nbformat_minor": 0
}