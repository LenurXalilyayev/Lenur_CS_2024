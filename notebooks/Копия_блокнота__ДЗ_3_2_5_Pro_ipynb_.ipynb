{
  "cells": [
    {
      "cell_type": "markdown",
      "metadata": {
        "id": "MH-3kVwvJYeP"
      },
      "source": [
        "\n",
        "# 3.2.5 Файловый ввод-вывод массивов"
      ]
    },
    {
      "cell_type": "markdown",
      "metadata": {
        "id": "gMwyKhlQJ1mf"
      },
      "source": [
        "## Задание 1"
      ]
    },
    {
      "cell_type": "markdown",
      "metadata": {
        "id": "Owu684lKKrjJ"
      },
      "source": [
        "**Условие:**\n",
        "Создайте массив ```ndarray``` размера ```(15,15)``` элементов, взятых из стандартного нормального распределения. Запишите данный массив в файл в бинарном виде. Считайте массив из файла, с использованием целочисленного типа данных. Найдите абсолютное значение разности сумм элементов исходного массива и считанного из файла. Используйте ```np.random.seed(1000)``` перед генерацией массива для воспроизводимости результатов.\n",
        "\n",
        "**Формат ответа:**\n",
        "Число (например, ```102.4```)\n",
        "\n"
      ]
    },
    {
      "cell_type": "markdown",
      "metadata": {
        "id": "OCTvo3fHLaaJ"
      },
      "source": [
        "**Решение:**"
      ]
    },
    {
      "cell_type": "code",
      "execution_count": null,
      "metadata": {
        "id": "f9_8IGndLeRO",
        "colab": {
          "base_uri": "https://localhost:8080/"
        },
        "outputId": "7ac2f71f-d8ae-4413-99f0-517206b8981d"
      },
      "outputs": [
        {
          "output_type": "stream",
          "name": "stdout",
          "text": [
            "0.0\n"
          ]
        }
      ],
      "source": [
        "import numpy as np\n",
        "\n",
        "# Создание массива и запись его в файл в бинарном виде\n",
        "np.random.seed(1000)\n",
        "array = np.random.randn(15, 15)\n",
        "array_bytes = array.tobytes()\n",
        "with open('array_normal_distribution.bin', 'wb') as f:\n",
        "    f.write(array_bytes)\n",
        "\n",
        "# Считывание массива из файла с использованием целочисленного типа данных\n",
        "array_read = np.fromfile('array_normal_distribution.bin', dtype=np.float64).reshape(15, 15)\n",
        "\n",
        "# Нахождение разности сумм элементов\n",
        "diff_sum = np.abs(np.sum(array) - np.sum(array_read))\n",
        "print(diff_sum)\n"
      ]
    },
    {
      "cell_type": "markdown",
      "metadata": {
        "id": "g5S0h2-wKfGE"
      },
      "source": [
        "## Задание 2"
      ]
    },
    {
      "cell_type": "markdown",
      "metadata": {
        "id": "orX7BUzcPKKf"
      },
      "source": [
        "**Условие:**\n",
        "Создайте массив ```ndarray``` размера ```100```, взятых из стандартного нормального распределения. Запишите данный массив в файл в бинарном виде с использованием функций ```np.save()``` и ```np.savez_compressed()```. Найдите абсолютное значение разности байтовых размеров полученных файлов. Используйте ```np.random.seed(1000)``` перед генерацией массива для воспроизводимости результатов.\n",
        "\n",
        "**Формат ответа:**\n",
        "Число (например, ```45```)\n"
      ]
    },
    {
      "cell_type": "markdown",
      "metadata": {
        "id": "ESSLfwqEPKKn"
      },
      "source": [
        "**Решение:**"
      ]
    },
    {
      "cell_type": "code",
      "execution_count": null,
      "metadata": {
        "id": "y8HOlaNLPKKq",
        "colab": {
          "base_uri": "https://localhost:8080/"
        },
        "outputId": "2dc60893-8989-417b-a296-22aab4a2def0"
      },
      "outputs": [
        {
          "output_type": "stream",
          "name": "stdout",
          "text": [
            "0\n"
          ]
        }
      ],
      "source": [
        "import numpy as np\n",
        "\n",
        "# Создание массива и запись его в файлы\n",
        "np.random.seed(1000)\n",
        "array = np.random.randn(100)\n",
        "np.save('array_normal.npy', array)  # Запись в файл с использованием np.save()\n",
        "np.savez_compressed('array_normal_compressed.npz', array=array)  # Запись в сжатый файл с использованием np.savez_compressed()\n",
        "\n",
        "# Нахождение разности размеров файлов\n",
        "file_size_np = np.array([len(np.load('array_normal.npy', allow_pickle=True).tobytes()),\n",
        "                         len(np.load('array_normal_compressed.npz', allow_pickle=True)['array'].tobytes())])\n",
        "diff_sizes = np.abs(np.diff(file_size_np)[0])\n",
        "print(diff_sizes)\n"
      ]
    }
  ],
  "metadata": {
    "colab": {
      "provenance": []
    },
    "kernelspec": {
      "display_name": "Python 3 (ipykernel)",
      "language": "python",
      "name": "python3"
    },
    "language_info": {
      "codemirror_mode": {
        "name": "ipython",
        "version": 3
      },
      "file_extension": ".py",
      "mimetype": "text/x-python",
      "name": "python",
      "nbconvert_exporter": "python",
      "pygments_lexer": "ipython3",
      "version": "3.11.7"
    }
  },
  "nbformat": 4,
  "nbformat_minor": 0
}