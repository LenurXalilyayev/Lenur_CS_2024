{
  "cells": [
    {
      "cell_type": "markdown",
      "metadata": {
        "id": "MH-3kVwvJYeP"
      },
      "source": [
        "# 2.4 Управляющие структуры. Условные ветвления и циклы"
      ]
    },
    {
      "cell_type": "markdown",
      "metadata": {
        "id": "gMwyKhlQJ1mf"
      },
      "source": [
        "## Задание 1"
      ]
    },
    {
      "cell_type": "markdown",
      "metadata": {
        "id": "Owu684lKKrjJ"
      },
      "source": [
        "**Условие:**\n",
        "Вычислить сумму ряда чисел $1/1^2 + 1/2^2 + 1/3^2 + … + 1/n^2$, где $n$ определяется пользователем. Дайте ответ для $n = 50$. Используйте циклы.\n",
        "\n",
        "**Формат ответа:**\n",
        "Число (например, ```0.75```)\n"
      ]
    },
    {
      "cell_type": "markdown",
      "metadata": {
        "id": "OCTvo3fHLaaJ"
      },
      "source": [
        "**Решение:**"
      ]
    },
    {
      "cell_type": "code",
      "execution_count": null,
      "metadata": {
        "id": "f9_8IGndLeRO",
        "colab": {
          "base_uri": "https://localhost:8080/"
        },
        "outputId": "3950469e-7801-4f19-a3df-8849d2545f50"
      },
      "outputs": [
        {
          "output_type": "stream",
          "name": "stdout",
          "text": [
            "1.625132733621529\n"
          ]
        }
      ],
      "source": [
        "n = 50\n",
        "sum_series = 0\n",
        "\n",
        "for i in range(1, n+1):\n",
        "    sum_series += 1 / (i**2)\n",
        "\n",
        "print(sum_series)"
      ]
    },
    {
      "cell_type": "markdown",
      "metadata": {
        "id": "g5S0h2-wKfGE"
      },
      "source": [
        "## Задание 2"
      ]
    },
    {
      "cell_type": "markdown",
      "metadata": {
        "id": "orX7BUzcPKKf"
      },
      "source": [
        "**Условие:**\n",
        "Найдите сумму всех натуральных делителей введенного пользователем натурального числа. В ответе укажите результат для числа ```5120```. Используйте циклы и условные выражения.\n",
        "\n",
        "**Формат ответа:** Целое цисло (например, ```75```)"
      ]
    },
    {
      "cell_type": "markdown",
      "metadata": {
        "id": "ESSLfwqEPKKn"
      },
      "source": [
        "**Решение:**"
      ]
    },
    {
      "cell_type": "code",
      "execution_count": null,
      "metadata": {
        "id": "y8HOlaNLPKKq",
        "colab": {
          "base_uri": "https://localhost:8080/"
        },
        "outputId": "49a1cb68-3704-4d1a-b488-69273bcc9903"
      },
      "outputs": [
        {
          "output_type": "stream",
          "name": "stdout",
          "text": [
            "12282\n"
          ]
        }
      ],
      "source": [
        "number = 5120\n",
        "sum_divisors = 0\n",
        "\n",
        "for i in range(1, number+1):\n",
        "    if number % i == 0:\n",
        "        sum_divisors += i\n",
        "\n",
        "print(sum_divisors)"
      ]
    },
    {
      "cell_type": "markdown",
      "metadata": {
        "id": "tq0Fcrg1KfXQ"
      },
      "source": [
        "## Задание 3"
      ]
    },
    {
      "cell_type": "markdown",
      "metadata": {
        "id": "3xp-jyyHPMIb"
      },
      "source": [
        "**Условие:** Создайте игру, в которой пользователь должен угадать заранее случайным образом выбранное целое число от 1 до 10. Используйте модуль ```random``` и цикл ```while```. Не забудьте поставить условие выхода, например, при вводе символа *. Сыграйте с машиной в эту игру 3 раза и укажите среднее значение попыток до успешного угадывания.\n",
        "\n",
        "**Формат ответа:** Число (например, ```7```)\n"
      ]
    },
    {
      "cell_type": "markdown",
      "metadata": {
        "id": "H5ZlBsI2PMIi"
      },
      "source": [
        "**Решение:**"
      ]
    },
    {
      "cell_type": "code",
      "execution_count": null,
      "metadata": {
        "id": "6amsYUCoPMIn",
        "colab": {
          "base_uri": "https://localhost:8080/"
        },
        "outputId": "32c2aa50-74ba-4160-95f2-95fdc6413498"
      },
      "outputs": [
        {
          "output_type": "stream",
          "name": "stdout",
          "text": [
            "Guess the number from 1 to 10 (or '*' to exit): 10\n",
            "Incorrect guess. Try again.\n",
            "Guess the number from 1 to 10 (or '*' to exit): 50\n",
            "Incorrect guess. Try again.\n",
            "Guess the number from 1 to 10 (or '*' to exit): 3\n",
            "Incorrect guess. Try again.\n"
          ]
        }
      ],
      "source": [
        "import random\n",
        "\n",
        "total_attempts = 0\n",
        "successful_attempts = 0\n",
        "games_played = 3\n",
        "\n",
        "for _ in range(games_played):\n",
        "    number_to_guess = random.randint(1, 10)\n",
        "    attempts = 0\n",
        "\n",
        "    while True:\n",
        "        user_input = input(\"Guess the number from 1 to 10 (or '*' to exit): \")\n",
        "\n",
        "        if user_input == '*':\n",
        "            print(\"Exiting the game...\")\n",
        "            break\n",
        "\n",
        "        try:\n",
        "            guess = int(user_input)\n",
        "        except ValueError:\n",
        "            print(\"Please enter a valid number or '*' to exit.\")\n",
        "            continue\n",
        "\n",
        "        attempts += 1\n",
        "\n",
        "        if guess == number_to_guess:\n",
        "            print(\"Congratulations! You guessed the number.\")\n",
        "            total_attempts += attempts\n",
        "            successful_attempts += 1\n",
        "            break\n",
        "        else:\n",
        "            print(\"Incorrect guess. Try again.\")\n",
        "\n",
        "average_attempts = total_attempts / successful_attempts if successful_attempts > 0 else 0\n",
        "print(f\"Average number of attempts to guess the number: {average_attempts}\")\n"
      ]
    }
  ],
  "metadata": {
    "colab": {
      "provenance": []
    },
    "kernelspec": {
      "display_name": "Python 3 (ipykernel)",
      "language": "python",
      "name": "python3"
    },
    "language_info": {
      "codemirror_mode": {
        "name": "ipython",
        "version": 3
      },
      "file_extension": ".py",
      "mimetype": "text/x-python",
      "name": "python",
      "nbconvert_exporter": "python",
      "pygments_lexer": "ipython3",
      "version": "3.11.7"
    }
  },
  "nbformat": 4,
  "nbformat_minor": 0
}