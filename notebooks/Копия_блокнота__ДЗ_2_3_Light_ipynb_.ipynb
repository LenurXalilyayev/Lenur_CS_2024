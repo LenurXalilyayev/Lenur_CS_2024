{
  "cells": [
    {
      "cell_type": "markdown",
      "metadata": {
        "id": "MH-3kVwvJYeP"
      },
      "source": [
        "# 2.3 Типы коллекций. Последовательности, множества, отображения"
      ]
    },
    {
      "cell_type": "markdown",
      "metadata": {
        "id": "gMwyKhlQJ1mf"
      },
      "source": [
        "## Задание 1"
      ]
    },
    {
      "cell_type": "markdown",
      "metadata": {
        "id": "Owu684lKKrjJ"
      },
      "source": [
        "**Условие:**\n",
        "Создайте кортеж из ```10```  произвольных значений. Выведите элементы кортежа по целым положительным индексам и по целым отрицательным индексам.\n"
      ]
    },
    {
      "cell_type": "markdown",
      "metadata": {
        "id": "OCTvo3fHLaaJ"
      },
      "source": [
        "**Решение:**"
      ]
    },
    {
      "cell_type": "code",
      "execution_count": null,
      "metadata": {
        "id": "f9_8IGndLeRO",
        "colab": {
          "base_uri": "https://localhost:8080/"
        },
        "outputId": "18b13229-26e8-4dff-8040-4d3dc5b68a5d"
      },
      "outputs": [
        {
          "output_type": "stream",
          "name": "stdout",
          "text": [
            "5\n",
            "10\n",
            "15\n",
            "20\n",
            "25\n",
            "30\n",
            "35\n",
            "40\n",
            "45\n",
            "50\n",
            "50\n",
            "45\n",
            "40\n",
            "35\n",
            "30\n",
            "25\n",
            "20\n",
            "15\n",
            "10\n",
            "5\n"
          ]
        }
      ],
      "source": [
        "my_tuple = (5, 10, 15, 20, 25, 30, 35, 40, 45, 50)\n",
        "for i in range(len(my_tuple)):\n",
        "    print(my_tuple[i])\n",
        "for i in range(-1, -len(my_tuple)-1, -1):\n",
        "    print(my_tuple[i])"
      ]
    },
    {
      "cell_type": "markdown",
      "metadata": {
        "id": "g5S0h2-wKfGE"
      },
      "source": [
        "## Задание 2"
      ]
    },
    {
      "cell_type": "markdown",
      "metadata": {
        "id": "orX7BUzcPKKf"
      },
      "source": [
        "**Условие:**\n",
        "Создайте список из ```10``` последовательных чисел. Прибавьте ```1``` к значениям списка, проходя по нему в цикле."
      ]
    },
    {
      "cell_type": "markdown",
      "metadata": {
        "id": "ESSLfwqEPKKn"
      },
      "source": [
        "**Решение:**"
      ]
    },
    {
      "cell_type": "code",
      "execution_count": null,
      "metadata": {
        "id": "y8HOlaNLPKKq",
        "colab": {
          "base_uri": "https://localhost:8080/"
        },
        "outputId": "e418e074-516e-40d8-ade7-6a8d5a5d799d"
      },
      "outputs": [
        {
          "output_type": "stream",
          "name": "stdout",
          "text": [
            "[2, 3, 4, 5, 6, 7, 8, 9, 10, 11]\n"
          ]
        }
      ],
      "source": [
        "my_list = list(range(1, 11))\n",
        "\n",
        "for i in range(len(my_list)):\n",
        "    my_list[i] += 1\n",
        "\n",
        "print(my_list)"
      ]
    },
    {
      "cell_type": "markdown",
      "metadata": {
        "id": "tq0Fcrg1KfXQ"
      },
      "source": [
        "## Задание 3"
      ]
    },
    {
      "cell_type": "markdown",
      "metadata": {
        "id": "3xp-jyyHPMIb"
      },
      "source": [
        "**Условие:**\n",
        "Создайте словарь из ```5``` сотрудников, где ключ - это имя сотрудника, а значение - его заработная плата.\n"
      ]
    },
    {
      "cell_type": "markdown",
      "metadata": {
        "id": "H5ZlBsI2PMIi"
      },
      "source": [
        "**Решение:**"
      ]
    },
    {
      "cell_type": "code",
      "execution_count": null,
      "metadata": {
        "id": "6amsYUCoPMIn",
        "colab": {
          "base_uri": "https://localhost:8080/"
        },
        "outputId": "a7c1327e-5681-4c72-e413-83759541a08d"
      },
      "outputs": [
        {
          "output_type": "stream",
          "name": "stdout",
          "text": [
            "{'Иван': 50000, 'Мария': 60000, 'Петр': 55000, 'Анна': 58000, 'Сергей': 62000}\n"
          ]
        }
      ],
      "source": [
        "employees = {\n",
        "    'Иван': 50000,\n",
        "    'Мария': 60000,\n",
        "    'Петр': 55000,\n",
        "    'Анна': 58000,\n",
        "    'Сергей': 62000\n",
        "}\n",
        "\n",
        "print(employees)"
      ]
    }
  ],
  "metadata": {
    "colab": {
      "provenance": []
    },
    "kernelspec": {
      "display_name": "Python 3 (ipykernel)",
      "language": "python",
      "name": "python3"
    },
    "language_info": {
      "codemirror_mode": {
        "name": "ipython",
        "version": 3
      },
      "file_extension": ".py",
      "mimetype": "text/x-python",
      "name": "python",
      "nbconvert_exporter": "python",
      "pygments_lexer": "ipython3",
      "version": "3.11.7"
    }
  },
  "nbformat": 4,
  "nbformat_minor": 0
}