{
  "cells": [
    {
      "cell_type": "markdown",
      "metadata": {
        "id": "MH-3kVwvJYeP"
      },
      "source": [
        "# 2.8.3 Объектно-ориентированное программирование как ключевой элемент языка Python"
      ]
    },
    {
      "cell_type": "markdown",
      "metadata": {
        "id": "gMwyKhlQJ1mf"
      },
      "source": [
        "## Задание 1"
      ]
    },
    {
      "cell_type": "markdown",
      "metadata": {
        "id": "Owu684lKKrjJ"
      },
      "source": [
        "**Условие:**\n",
        "\n",
        "Установите все родительские классы для класса ```IOError```.\n"
      ]
    },
    {
      "cell_type": "markdown",
      "metadata": {
        "id": "OCTvo3fHLaaJ"
      },
      "source": [
        "**Решение:**"
      ]
    },
    {
      "cell_type": "code",
      "execution_count": null,
      "metadata": {
        "id": "f9_8IGndLeRO",
        "colab": {
          "base_uri": "https://localhost:8080/"
        },
        "outputId": "90cf23d7-7f18-4e0e-ad16-f0ed6ddf8f83"
      },
      "outputs": [
        {
          "output_type": "stream",
          "name": "stdout",
          "text": [
            "OSError\n",
            "Exception\n",
            "BaseException\n",
            "object\n"
          ]
        }
      ],
      "source": [
        "import inspect\n",
        "\n",
        "# Получение списка родительских классов для OSError\n",
        "parent_classes = inspect.getmro(OSError)\n",
        "\n",
        "# Вывод списка родительских классов\n",
        "for parent_class in parent_classes:\n",
        "    print(parent_class.__name__)"
      ]
    },
    {
      "cell_type": "markdown",
      "metadata": {
        "id": "g5S0h2-wKfGE"
      },
      "source": [
        "## Задание 2"
      ]
    },
    {
      "cell_type": "markdown",
      "metadata": {
        "id": "orX7BUzcPKKf"
      },
      "source": [
        "**Условие:** Для класса ```Manager``` из задания к занятию 2.8.2 установите все родительские классы. Убедитесь, что сам класс ```Manager``` является классом."
      ]
    },
    {
      "cell_type": "markdown",
      "metadata": {
        "id": "ESSLfwqEPKKn"
      },
      "source": [
        "**Решение:**"
      ]
    },
    {
      "cell_type": "code",
      "execution_count": null,
      "metadata": {
        "id": "y8HOlaNLPKKq",
        "colab": {
          "base_uri": "https://localhost:8080/"
        },
        "outputId": "75b6d7d7-d32a-45ae-bd0f-b1d89d79256e"
      },
      "outputs": [
        {
          "output_type": "stream",
          "name": "stdout",
          "text": [
            "Manager\n",
            "Person\n",
            "object\n"
          ]
        }
      ],
      "source": [
        "import inspect\n",
        "\n",
        "class Person:\n",
        "    def __init__(self, name, job, pay):\n",
        "        self.name = name\n",
        "        self.job = job\n",
        "        self.pay = pay\n",
        "\n",
        "    def person_raise(self, prcnt):\n",
        "        self.pay += self.pay * prcnt / 100\n",
        "\n",
        "class Manager(Person):\n",
        "    pass\n",
        "\n",
        "manager = Manager(\"Иванов\", \"менеджер\", 150)\n",
        "\n",
        "parent_classes = inspect.getmro(manager.__class__)\n",
        "\n",
        "for parent_class in parent_classes:\n",
        "    print(parent_class.__name__)"
      ]
    }
  ],
  "metadata": {
    "colab": {
      "provenance": []
    },
    "kernelspec": {
      "display_name": "Python 3 (ipykernel)",
      "language": "python",
      "name": "python3"
    },
    "language_info": {
      "codemirror_mode": {
        "name": "ipython",
        "version": 3
      },
      "file_extension": ".py",
      "mimetype": "text/x-python",
      "name": "python",
      "nbconvert_exporter": "python",
      "pygments_lexer": "ipython3",
      "version": "3.11.7"
    }
  },
  "nbformat": 4,
  "nbformat_minor": 0
}