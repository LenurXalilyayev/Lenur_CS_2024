{
  "cells": [
    {
      "cell_type": "markdown",
      "metadata": {
        "id": "MH-3kVwvJYeP"
      },
      "source": [
        "\n",
        "# 2.7 Обработка исключений"
      ]
    },
    {
      "cell_type": "markdown",
      "metadata": {
        "id": "Mv3Lt4M3KfxS"
      },
      "source": [
        "## Задание 1"
      ]
    },
    {
      "cell_type": "markdown",
      "metadata": {
        "id": "wdbYgJfkPPCb"
      },
      "source": [
        "**Условие:** С помощью конструкции ```try...except...``` реализуйте перехват исключения при вводе пользователем не числового или нулевого значения в функции подсчета обратного значения числа. Выведите предупреждение с описанием ошибки. Какой тип ошибки перехватывается при вводе не числового значения?\n",
        "\n",
        "**Формат ответа:** Строка (например, ```'IndexError'```)"
      ]
    },
    {
      "cell_type": "markdown",
      "metadata": {
        "id": "bIzgjMPtPPCm"
      },
      "source": [
        "**Решение:**"
      ]
    },
    {
      "cell_type": "code",
      "execution_count": null,
      "metadata": {
        "id": "L_j90Z-UPPCt",
        "colab": {
          "base_uri": "https://localhost:8080/"
        },
        "outputId": "b9b48fb3-e4cb-4bc6-925e-2a0e465ad2fd"
      },
      "outputs": [
        {
          "output_type": "stream",
          "name": "stdout",
          "text": [
            "Введите число: d\n",
            "Ошибка: неправильный формат числа!\n",
            "Спасибо за ввод!\n"
          ]
        }
      ],
      "source": [
        "def reciprocal(value):\n",
        "    try:\n",
        "        result = 1 / value\n",
        "        return result\n",
        "    except (ZeroDivisionError, ValueError) as e:\n",
        "        print(f\"Ошибка: {e}\")\n",
        "        return None\n",
        "\n",
        "user_input = input(\"Введите число: \")\n",
        "\n",
        "try:\n",
        "    number = float(user_input)\n",
        "    reciprocal_value = reciprocal(number)\n",
        "    if reciprocal_value is not None:\n",
        "        print(f\"Обратное значение числа: {reciprocal_value}\")\n",
        "except ValueError:\n",
        "    print(\"Ошибка: неправильный формат числа!\")\n",
        "except ZeroDivisionError:\n",
        "    print(\"Ошибка: деление на ноль!\")\n",
        "finally:\n",
        "    print(\"Спасибо за ввод!\")"
      ]
    },
    {
      "cell_type": "markdown",
      "metadata": {
        "id": "_xCYfSFPnlAy"
      },
      "source": [
        "## Задание 2"
      ]
    },
    {
      "cell_type": "markdown",
      "metadata": {
        "id": "GybRlM7onlA3"
      },
      "source": [
        "**Условие:**\n",
        "Напишите функцию безопасного открытия файла, в которой с помощью конструкции ```try...except...``` реализуется перехват исключения при невозможности открытия файла в случае его отсутствия. Какой тип исключения при этом возникает?\n",
        "\n",
        "**Формат ответа:** Строка (например, ```'IndexError'```)"
      ]
    },
    {
      "cell_type": "markdown",
      "metadata": {
        "id": "MX5hE3funlA6"
      },
      "source": [
        "**Решение:**"
      ]
    },
    {
      "cell_type": "code",
      "execution_count": null,
      "metadata": {
        "id": "wof6b39wnlA9"
      },
      "outputs": [],
      "source": [
        "def safe_open_file(filename, mode='r'):\n",
        "    try:\n",
        "        file = open(filename, mode)\n",
        "        return file\n",
        "    except FileNotFoundError:\n",
        "        print(\"Ошибка: Файл '{}' не найден.\".format(filename))"
      ]
    }
  ],
  "metadata": {
    "colab": {
      "provenance": []
    },
    "kernelspec": {
      "display_name": "Python 3 (ipykernel)",
      "language": "python",
      "name": "python3"
    },
    "language_info": {
      "codemirror_mode": {
        "name": "ipython",
        "version": 3
      },
      "file_extension": ".py",
      "mimetype": "text/x-python",
      "name": "python",
      "nbconvert_exporter": "python",
      "pygments_lexer": "ipython3",
      "version": "3.11.7"
    }
  },
  "nbformat": 4,
  "nbformat_minor": 0
}