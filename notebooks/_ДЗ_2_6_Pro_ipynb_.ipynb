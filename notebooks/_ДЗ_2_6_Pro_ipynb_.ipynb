{
  "cells": [
    {
      "cell_type": "markdown",
      "metadata": {
        "id": "MH-3kVwvJYeP"
      },
      "source": [
        "# 2.6 Модули"
      ]
    },
    {
      "cell_type": "markdown",
      "metadata": {
        "id": "Ul9jm4IVKflm"
      },
      "source": [
        "## Задание 1"
      ]
    },
    {
      "cell_type": "markdown",
      "metadata": {
        "id": "MHcCRybmPN2l"
      },
      "source": [
        "**Условие:**\n",
        "Посчитать значение $\\cos^2(\\pi^{25})$ и $\\sin^2(\\pi^{25})$, используя указанные функции из библиотеки ```math```, применив для этого **каждую** из конструкций импорта:\n",
        "```python\n",
        "# 1. Импорт модуля или модулей целиком\n",
        "import имя_модуля\n",
        "import имя_модуля1, имя_модуля2\n",
        "\n",
        "# 2. Импорт модуля с присвоением псевдонима модулю\n",
        "import имя_модуля as новое_имя\n",
        "\n",
        "# 3. Импорт конкретного объекта из модуля\n",
        "from имя_модуля import имя_объекта\n",
        "from имя_модуля import имя_объекта1, имя_объекта2\n",
        "\n",
        "# 4. Импорт конкретного объекта из модуля с присвоением псевдонима объекту\n",
        "from имя_модуля import имя_объекта as псевдоним_объекта\n",
        "\n",
        "# 5. Импорт всех объектов из модуля\n",
        "from имя_модуля import *\n",
        "```\n",
        "Найдите произведение $\\cos^2(\\pi^{25})*\\sin^2(\\pi^{25})$.\n",
        "\n",
        "**Формат ответа:** Число с плавающей запятой, округленное до десятых (например,```0.1```)\n"
      ]
    },
    {
      "cell_type": "markdown",
      "metadata": {
        "id": "KGKyYMeJPN2v"
      },
      "source": [
        "**Решение:**"
      ]
    },
    {
      "cell_type": "code",
      "execution_count": null,
      "metadata": {
        "colab": {
          "base_uri": "https://localhost:8080/"
        },
        "id": "JXulcWCxPN26",
        "outputId": "c4daeee0-a28a-4fd5-a70b-e0adfc215368"
      },
      "outputs": [
        {
          "output_type": "stream",
          "name": "stdout",
          "text": [
            "0.0\n"
          ]
        }
      ],
      "source": [
        "import math\n",
        "\n",
        "result = math.cos(math.pi/25) ** 2 * math.sin(math.pi/25) ** 2\n",
        "print(round(result, 1))"
      ]
    },
    {
      "cell_type": "code",
      "source": [
        "import math as m\n",
        "\n",
        "result = m.cos(m.pi/25) ** 2 * m.sin(m.pi/25) ** 2\n",
        "print(round(result, 1))"
      ],
      "metadata": {
        "colab": {
          "base_uri": "https://localhost:8080/"
        },
        "id": "30YIMClax6wR",
        "outputId": "5bf4682a-46ca-4509-8b65-66100f7fec36"
      },
      "execution_count": null,
      "outputs": [
        {
          "output_type": "stream",
          "name": "stdout",
          "text": [
            "0.0\n"
          ]
        }
      ]
    },
    {
      "cell_type": "code",
      "source": [
        "from math import cos, sin, pi\n",
        "\n",
        "result = cos(pi/25) ** 2 * sin(pi/25) ** 2\n",
        "print(round(result, 1))"
      ],
      "metadata": {
        "colab": {
          "base_uri": "https://localhost:8080/"
        },
        "id": "RvGBe8XnyC1W",
        "outputId": "f3aa34bd-c17e-4ae4-d215-f6a09db210a2"
      },
      "execution_count": null,
      "outputs": [
        {
          "output_type": "stream",
          "name": "stdout",
          "text": [
            "0.0\n"
          ]
        }
      ]
    },
    {
      "cell_type": "code",
      "source": [
        "from math import cos as c, sin as s, pi as p\n",
        "\n",
        "result = c(p/25) ** 2 * s(p/25) ** 2\n",
        "print(round(result, 1))"
      ],
      "metadata": {
        "colab": {
          "base_uri": "https://localhost:8080/"
        },
        "id": "0_dv24_kyEKf",
        "outputId": "e9893a96-605c-4960-ada3-d8654d0a7ade"
      },
      "execution_count": null,
      "outputs": [
        {
          "output_type": "stream",
          "name": "stdout",
          "text": [
            "0.0\n"
          ]
        }
      ]
    },
    {
      "cell_type": "code",
      "source": [
        "from math import *\n",
        "\n",
        "result = cos(pi/25) ** 2 * sin(pi/25) ** 2\n",
        "print(round(result, 1))"
      ],
      "metadata": {
        "colab": {
          "base_uri": "https://localhost:8080/"
        },
        "id": "hZBtAzkUyGvI",
        "outputId": "0e572a63-be10-414b-afc7-260cb4c3586e"
      },
      "execution_count": null,
      "outputs": [
        {
          "output_type": "stream",
          "name": "stdout",
          "text": [
            "0.0\n"
          ]
        }
      ]
    },
    {
      "cell_type": "markdown",
      "metadata": {
        "id": "zWLADp8od4Fb"
      },
      "source": [
        "## Задание 2"
      ]
    },
    {
      "cell_type": "markdown",
      "metadata": {
        "id": "UoOi1BsVd4Fk"
      },
      "source": [
        "**Условие:**\n",
        "Напишите свой модуль ```my_math.py```, в котором реализованы функции умножения и сложения чисел. Загрузите файл в Google colab. Подключите данный модуль любым способом и найдите значение выражения: $(123+432)*21+452*9876$, используя только функции из вашего модуля.\n",
        "\n",
        "**Формат ответа:** Целое число\n"
      ]
    },
    {
      "cell_type": "markdown",
      "metadata": {
        "id": "lrstOHX0d4Fr"
      },
      "source": [
        "**Решение:**"
      ]
    },
    {
      "cell_type": "code",
      "execution_count": null,
      "metadata": {
        "id": "oyROkfqid4Fv"
      },
      "outputs": [],
      "source": [
        "# Загрузка файлов\n",
        "from google.colab import files\n",
        "files.upload()"
      ]
    },
    {
      "cell_type": "code",
      "execution_count": null,
      "metadata": {
        "id": "7-omYdM7xI38"
      },
      "outputs": [],
      "source": []
    }
  ],
  "metadata": {
    "colab": {
      "provenance": []
    },
    "kernelspec": {
      "display_name": "Python 3 (ipykernel)",
      "language": "python",
      "name": "python3"
    },
    "language_info": {
      "codemirror_mode": {
        "name": "ipython",
        "version": 3
      },
      "file_extension": ".py",
      "mimetype": "text/x-python",
      "name": "python",
      "nbconvert_exporter": "python",
      "pygments_lexer": "ipython3",
      "version": "3.11.7"
    }
  },
  "nbformat": 4,
  "nbformat_minor": 0
}