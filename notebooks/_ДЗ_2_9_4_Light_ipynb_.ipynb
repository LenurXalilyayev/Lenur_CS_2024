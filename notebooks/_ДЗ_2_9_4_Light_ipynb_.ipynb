{
  "cells": [
    {
      "cell_type": "markdown",
      "metadata": {
        "id": "MH-3kVwvJYeP"
      },
      "source": [
        "\n",
        "# 2.9.4 Форматы файлов, кодировки и сохранение данных. Работа с файлами и каталогами"
      ]
    },
    {
      "cell_type": "markdown",
      "metadata": {
        "id": "gMwyKhlQJ1mf"
      },
      "source": [
        "## Задание 1"
      ]
    },
    {
      "cell_type": "markdown",
      "metadata": {
        "id": "Owu684lKKrjJ"
      },
      "source": [
        "**Условие:**\n",
        "Методами модуля ```os``` вывести содержание папки ```sample_data``` из корневой директории Google Colab.\n",
        "\n"
      ]
    },
    {
      "cell_type": "markdown",
      "metadata": {
        "id": "OCTvo3fHLaaJ"
      },
      "source": [
        "**Решение:**"
      ]
    },
    {
      "cell_type": "code",
      "execution_count": null,
      "metadata": {
        "colab": {
          "base_uri": "https://localhost:8080/"
        },
        "id": "f9_8IGndLeRO",
        "outputId": "fdb05d69-cf8d-492a-cf30-f667d975070a"
      },
      "outputs": [
        {
          "output_type": "stream",
          "name": "stdout",
          "text": [
            "Содержание папки /content/sample_data:\n",
            "anscombe.json\n",
            "README.md\n",
            "mnist_test.csv\n",
            "california_housing_train.csv\n",
            "mnist_train_small.csv\n",
            "california_housing_test.csv\n"
          ]
        }
      ],
      "source": [
        "import os\n",
        "\n",
        "# Путь к папке sample_data в корневой директории Google Colab\n",
        "folder_path = '/content/sample_data'\n",
        "\n",
        "# Проверяем, существует ли указанная папка\n",
        "if os.path.exists(folder_path) and os.path.isdir(folder_path):\n",
        "    # Получаем список файлов и папок в указанной папке\n",
        "    contents = os.listdir(folder_path)\n",
        "\n",
        "    # Выводим содержание папки\n",
        "    print(f\"Содержание папки {folder_path}:\")\n",
        "    for item in contents:\n",
        "        print(item)\n",
        "else:\n",
        "    print(f\"Папка {folder_path} не существует или не является директорией.\")\n"
      ]
    },
    {
      "cell_type": "markdown",
      "metadata": {
        "id": "g5S0h2-wKfGE"
      },
      "source": [
        "## Задание 2"
      ]
    },
    {
      "cell_type": "markdown",
      "metadata": {
        "id": "orX7BUzcPKKf"
      },
      "source": [
        "**Условие:**\n",
        "Создайте произвольный словарь из 10 элементов. Сохраните его в файл в формате ```.json```. Считайте данные из полученного файла в новый словарь и пересохраните его в формате ```.pickle```. Из вновь полученного файла считайте данные в новый словарь и сравните его с изначальным словарем.\n",
        "\n"
      ]
    },
    {
      "cell_type": "markdown",
      "metadata": {
        "id": "ESSLfwqEPKKn"
      },
      "source": [
        "**Решение:**"
      ]
    },
    {
      "cell_type": "code",
      "execution_count": null,
      "metadata": {
        "id": "y8HOlaNLPKKq",
        "colab": {
          "base_uri": "https://localhost:8080/"
        },
        "outputId": "abe2cb9d-ab9a-4e49-f958-5c8960e63916"
      },
      "outputs": [
        {
          "output_type": "stream",
          "name": "stdout",
          "text": [
            "Словари не идентичны.\n"
          ]
        }
      ],
      "source": [
        "import json\n",
        "import pickle\n",
        "\n",
        "# Создаем произвольный словарь из 10 элементов\n",
        "original_dict = {\n",
        "    'key1': 'value1',\n",
        "    'key2': 123,\n",
        "    'key3': [1, 2, 3],\n",
        "    'key4': {'nested_key': 'nested_value'},\n",
        "    'key5': True,\n",
        "    'key6': None,\n",
        "    'key7': (4, 5, 6),\n",
        "    'key8': 'value8',\n",
        "    'key9': [7, 8, 9],\n",
        "    'key10': {'nested_key2': 'nested_value2'}\n",
        "}\n",
        "\n",
        "# Сохраняем словарь в файл в формате .json\n",
        "with open('data.json', 'w') as json_file:\n",
        "    json.dump(original_dict, json_file)\n",
        "\n",
        "# Читаем данные из файла .json в новый словарь\n",
        "with open('data.json', 'r') as json_file:\n",
        "    loaded_dict_json = json.load(json_file)\n",
        "\n",
        "# Пересохраняем загруженный словарь в формате .pickle\n",
        "with open('data.pickle', 'wb') as pickle_file:\n",
        "    pickle.dump(loaded_dict_json, pickle_file)\n",
        "\n",
        "# Считываем данные из файла .pickle в новый словарь\n",
        "with open('data.pickle', 'rb') as pickle_file:\n",
        "    loaded_dict_pickle = pickle.load(pickle_file)\n",
        "\n",
        "# Сравниваем изначальный словарь и загруженный из .pickle\n",
        "if original_dict == loaded_dict_pickle:\n",
        "    print(\"Словари идентичны.\")\n",
        "else:\n",
        "    print(\"Словари не идентичны.\")\n"
      ]
    }
  ],
  "metadata": {
    "colab": {
      "provenance": []
    },
    "kernelspec": {
      "display_name": "Python 3 (ipykernel)",
      "language": "python",
      "name": "python3"
    },
    "language_info": {
      "codemirror_mode": {
        "name": "ipython",
        "version": 3
      },
      "file_extension": ".py",
      "mimetype": "text/x-python",
      "name": "python",
      "nbconvert_exporter": "python",
      "pygments_lexer": "ipython3",
      "version": "3.11.7"
    }
  },
  "nbformat": 4,
  "nbformat_minor": 0
}